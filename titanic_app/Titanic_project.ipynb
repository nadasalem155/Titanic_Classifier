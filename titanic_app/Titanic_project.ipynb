{
  "cells": [
    {
      "cell_type": "code",
      "execution_count": 1,
      "metadata": {
        "id": "rruK-lzudxaX"
      },
      "outputs": [],
      "source": [
        "import pandas as pd\n",
        "import numpy as np\n",
        "import matplotlib.pyplot as plt\n",
        "import seaborn as sns\n",
        "import warnings\n",
        "warnings.filterwarnings('ignore')"
      ]
    },
    {
      "cell_type": "code",
      "execution_count": 2,
      "metadata": {
        "colab": {
          "base_uri": "https://localhost:8080/",
          "height": 458
        },
        "id": "ozNeRPRleb3A",
        "outputId": "53b665c2-4e72-4bcb-8d02-f58c23897787"
      },
      "outputs": [
        {
          "data": {
            "text/html": [
              "<div>\n",
              "<style scoped>\n",
              "    .dataframe tbody tr th:only-of-type {\n",
              "        vertical-align: middle;\n",
              "    }\n",
              "\n",
              "    .dataframe tbody tr th {\n",
              "        vertical-align: top;\n",
              "    }\n",
              "\n",
              "    .dataframe thead th {\n",
              "        text-align: right;\n",
              "    }\n",
              "</style>\n",
              "<table border=\"1\" class=\"dataframe\">\n",
              "  <thead>\n",
              "    <tr style=\"text-align: right;\">\n",
              "      <th></th>\n",
              "      <th>PassengerId</th>\n",
              "      <th>Survived</th>\n",
              "      <th>Pclass</th>\n",
              "      <th>Name</th>\n",
              "      <th>Sex</th>\n",
              "      <th>Age</th>\n",
              "      <th>SibSp</th>\n",
              "      <th>Parch</th>\n",
              "      <th>Ticket</th>\n",
              "      <th>Fare</th>\n",
              "      <th>Cabin</th>\n",
              "      <th>Embarked</th>\n",
              "    </tr>\n",
              "  </thead>\n",
              "  <tbody>\n",
              "    <tr>\n",
              "      <th>0</th>\n",
              "      <td>1</td>\n",
              "      <td>0</td>\n",
              "      <td>3</td>\n",
              "      <td>Braund, Mr. Owen Harris</td>\n",
              "      <td>male</td>\n",
              "      <td>22.0</td>\n",
              "      <td>1</td>\n",
              "      <td>0</td>\n",
              "      <td>A/5 21171</td>\n",
              "      <td>7.2500</td>\n",
              "      <td>NaN</td>\n",
              "      <td>S</td>\n",
              "    </tr>\n",
              "    <tr>\n",
              "      <th>1</th>\n",
              "      <td>2</td>\n",
              "      <td>1</td>\n",
              "      <td>1</td>\n",
              "      <td>Cumings, Mrs. John Bradley (Florence Briggs Th...</td>\n",
              "      <td>female</td>\n",
              "      <td>38.0</td>\n",
              "      <td>1</td>\n",
              "      <td>0</td>\n",
              "      <td>PC 17599</td>\n",
              "      <td>71.2833</td>\n",
              "      <td>C85</td>\n",
              "      <td>C</td>\n",
              "    </tr>\n",
              "    <tr>\n",
              "      <th>2</th>\n",
              "      <td>3</td>\n",
              "      <td>1</td>\n",
              "      <td>3</td>\n",
              "      <td>Heikkinen, Miss. Laina</td>\n",
              "      <td>female</td>\n",
              "      <td>26.0</td>\n",
              "      <td>0</td>\n",
              "      <td>0</td>\n",
              "      <td>STON/O2. 3101282</td>\n",
              "      <td>7.9250</td>\n",
              "      <td>NaN</td>\n",
              "      <td>S</td>\n",
              "    </tr>\n",
              "    <tr>\n",
              "      <th>3</th>\n",
              "      <td>4</td>\n",
              "      <td>1</td>\n",
              "      <td>1</td>\n",
              "      <td>Futrelle, Mrs. Jacques Heath (Lily May Peel)</td>\n",
              "      <td>female</td>\n",
              "      <td>35.0</td>\n",
              "      <td>1</td>\n",
              "      <td>0</td>\n",
              "      <td>113803</td>\n",
              "      <td>53.1000</td>\n",
              "      <td>C123</td>\n",
              "      <td>S</td>\n",
              "    </tr>\n",
              "    <tr>\n",
              "      <th>4</th>\n",
              "      <td>5</td>\n",
              "      <td>0</td>\n",
              "      <td>3</td>\n",
              "      <td>Allen, Mr. William Henry</td>\n",
              "      <td>male</td>\n",
              "      <td>35.0</td>\n",
              "      <td>0</td>\n",
              "      <td>0</td>\n",
              "      <td>373450</td>\n",
              "      <td>8.0500</td>\n",
              "      <td>NaN</td>\n",
              "      <td>S</td>\n",
              "    </tr>\n",
              "    <tr>\n",
              "      <th>...</th>\n",
              "      <td>...</td>\n",
              "      <td>...</td>\n",
              "      <td>...</td>\n",
              "      <td>...</td>\n",
              "      <td>...</td>\n",
              "      <td>...</td>\n",
              "      <td>...</td>\n",
              "      <td>...</td>\n",
              "      <td>...</td>\n",
              "      <td>...</td>\n",
              "      <td>...</td>\n",
              "      <td>...</td>\n",
              "    </tr>\n",
              "    <tr>\n",
              "      <th>886</th>\n",
              "      <td>887</td>\n",
              "      <td>0</td>\n",
              "      <td>2</td>\n",
              "      <td>Montvila, Rev. Juozas</td>\n",
              "      <td>male</td>\n",
              "      <td>27.0</td>\n",
              "      <td>0</td>\n",
              "      <td>0</td>\n",
              "      <td>211536</td>\n",
              "      <td>13.0000</td>\n",
              "      <td>NaN</td>\n",
              "      <td>S</td>\n",
              "    </tr>\n",
              "    <tr>\n",
              "      <th>887</th>\n",
              "      <td>888</td>\n",
              "      <td>1</td>\n",
              "      <td>1</td>\n",
              "      <td>Graham, Miss. Margaret Edith</td>\n",
              "      <td>female</td>\n",
              "      <td>19.0</td>\n",
              "      <td>0</td>\n",
              "      <td>0</td>\n",
              "      <td>112053</td>\n",
              "      <td>30.0000</td>\n",
              "      <td>B42</td>\n",
              "      <td>S</td>\n",
              "    </tr>\n",
              "    <tr>\n",
              "      <th>888</th>\n",
              "      <td>889</td>\n",
              "      <td>0</td>\n",
              "      <td>3</td>\n",
              "      <td>Johnston, Miss. Catherine Helen \"Carrie\"</td>\n",
              "      <td>female</td>\n",
              "      <td>NaN</td>\n",
              "      <td>1</td>\n",
              "      <td>2</td>\n",
              "      <td>W./C. 6607</td>\n",
              "      <td>23.4500</td>\n",
              "      <td>NaN</td>\n",
              "      <td>S</td>\n",
              "    </tr>\n",
              "    <tr>\n",
              "      <th>889</th>\n",
              "      <td>890</td>\n",
              "      <td>1</td>\n",
              "      <td>1</td>\n",
              "      <td>Behr, Mr. Karl Howell</td>\n",
              "      <td>male</td>\n",
              "      <td>26.0</td>\n",
              "      <td>0</td>\n",
              "      <td>0</td>\n",
              "      <td>111369</td>\n",
              "      <td>30.0000</td>\n",
              "      <td>C148</td>\n",
              "      <td>C</td>\n",
              "    </tr>\n",
              "    <tr>\n",
              "      <th>890</th>\n",
              "      <td>891</td>\n",
              "      <td>0</td>\n",
              "      <td>3</td>\n",
              "      <td>Dooley, Mr. Patrick</td>\n",
              "      <td>male</td>\n",
              "      <td>32.0</td>\n",
              "      <td>0</td>\n",
              "      <td>0</td>\n",
              "      <td>370376</td>\n",
              "      <td>7.7500</td>\n",
              "      <td>NaN</td>\n",
              "      <td>Q</td>\n",
              "    </tr>\n",
              "  </tbody>\n",
              "</table>\n",
              "<p>891 rows × 12 columns</p>\n",
              "</div>"
            ],
            "text/plain": [
              "     PassengerId  Survived  Pclass  \\\n",
              "0              1         0       3   \n",
              "1              2         1       1   \n",
              "2              3         1       3   \n",
              "3              4         1       1   \n",
              "4              5         0       3   \n",
              "..           ...       ...     ...   \n",
              "886          887         0       2   \n",
              "887          888         1       1   \n",
              "888          889         0       3   \n",
              "889          890         1       1   \n",
              "890          891         0       3   \n",
              "\n",
              "                                                  Name     Sex   Age  SibSp  \\\n",
              "0                              Braund, Mr. Owen Harris    male  22.0      1   \n",
              "1    Cumings, Mrs. John Bradley (Florence Briggs Th...  female  38.0      1   \n",
              "2                               Heikkinen, Miss. Laina  female  26.0      0   \n",
              "3         Futrelle, Mrs. Jacques Heath (Lily May Peel)  female  35.0      1   \n",
              "4                             Allen, Mr. William Henry    male  35.0      0   \n",
              "..                                                 ...     ...   ...    ...   \n",
              "886                              Montvila, Rev. Juozas    male  27.0      0   \n",
              "887                       Graham, Miss. Margaret Edith  female  19.0      0   \n",
              "888           Johnston, Miss. Catherine Helen \"Carrie\"  female   NaN      1   \n",
              "889                              Behr, Mr. Karl Howell    male  26.0      0   \n",
              "890                                Dooley, Mr. Patrick    male  32.0      0   \n",
              "\n",
              "     Parch            Ticket     Fare Cabin Embarked  \n",
              "0        0         A/5 21171   7.2500   NaN        S  \n",
              "1        0          PC 17599  71.2833   C85        C  \n",
              "2        0  STON/O2. 3101282   7.9250   NaN        S  \n",
              "3        0            113803  53.1000  C123        S  \n",
              "4        0            373450   8.0500   NaN        S  \n",
              "..     ...               ...      ...   ...      ...  \n",
              "886      0            211536  13.0000   NaN        S  \n",
              "887      0            112053  30.0000   B42        S  \n",
              "888      2        W./C. 6607  23.4500   NaN        S  \n",
              "889      0            111369  30.0000  C148        C  \n",
              "890      0            370376   7.7500   NaN        Q  \n",
              "\n",
              "[891 rows x 12 columns]"
            ]
          },
          "execution_count": 2,
          "metadata": {},
          "output_type": "execute_result"
        }
      ],
      "source": [
        "df=pd.read_csv(\"train.csv\")\n",
        "df"
      ]
    },
    {
      "cell_type": "code",
      "execution_count": 3,
      "metadata": {
        "colab": {
          "base_uri": "https://localhost:8080/",
          "height": 472
        },
        "id": "735385eb",
        "outputId": "b11805eb-9d99-4023-fe0b-2a30bf11c621"
      },
      "outputs": [
        {
          "name": "stdout",
          "output_type": "stream",
          "text": [
            "Number of not survived passengers: 549\n",
            "Number of survived passengers: 342\n"
          ]
        },
        {
          "data": {
            "image/png": "[encoded data removed]",
            "text/plain": [
              "<Figure size 640x480 with 1 Axes>"
            ]
          },
          "metadata": {},
          "output_type": "display_data"
        }
      ],
      "source": [
        "# calculate how many passengers survived and how many didn’t and visualize it by countplot\n",
        "survived_counts = df['Survived'].value_counts()\n",
        "not_survived_count = survived_counts[0]\n",
        "survived_count = survived_counts[1]\n",
        "\n",
        "print(f\"Number of not survived passengers: {not_survived_count}\")\n",
        "print(f\"Number of survived passengers: {survived_count}\")\n",
        "sns.countplot(x='Survived', data=df)\n",
        "plt.title('Count of Survived Passengers (0=No, 1=Yes)')\n",
        "plt.show()"
      ]
    },
    {
      "cell_type": "markdown",
      "metadata": {},
      "source": [
        "passengers survived are 342 passenger and passengers not survived are 549\n",
        "therefore number of passengers not survived are greater than number of passengers survived "
      ]
    },
    {
      "cell_type": "code",
      "execution_count": 4,
      "metadata": {
        "colab": {
          "base_uri": "https://localhost:8080/",
          "height": 428
        },
        "id": "hdigV8KAUuzt",
        "outputId": "91a25c87-759c-48ba-b79f-5a37222c71d2"
      },
      "outputs": [
        {
          "data": {
            "image/png": "[encoded data removed]",
            "text/plain": [
              "<Figure size 640x480 with 1 Axes>"
            ]
          },
          "metadata": {},
          "output_type": "display_data"
        }
      ],
      "source": [
        "#check about percentage of males vs females survived and visualize by pie chart \n",
        "survival_by_sex = df[df['Survived'] == 1]['Sex'].value_counts(normalize=True) * 100\n",
        "survival_by_sex.plot(kind='pie', autopct='%1.1f%%', title='Survival Rate by Gender')\n",
        "plt.ylabel('')\n",
        "plt.show()"
      ]
    },
    {
      "cell_type": "markdown",
      "metadata": {},
      "source": [
        "the percentage of survived female is 68.1%\n",
        "the percentage of survived male is 31.9%\n",
        "therfore sex of female has the highest survival percentage "
      ]
    },
    {
      "cell_type": "code",
      "execution_count": 5,
      "metadata": {
        "colab": {
          "base_uri": "https://localhost:8080/",
          "height": 467
        },
        "id": "AOvPJSGmVRr3",
        "outputId": "8a52b172-ec3e-4ef9-c70c-0f5058c7e3cb"
      },
      "outputs": [
        {
          "data": {
            "image/png": "[encoded data removed]",
            "text/plain": [
              "<Figure size 640x480 with 1 Axes>"
            ]
          },
          "metadata": {},
          "output_type": "display_data"
        }
      ],
      "source": [
        "#Compare survival rate across passenger classes (Pclass) and visualize by bar chart\n",
        "survival_by_class = df.groupby('Pclass')['Survived'].mean() * 100\n",
        "survival_by_class.plot(kind='bar', title='Survival Rate by Passenger Class')\n",
        "plt.ylabel('Survival Rate (%)')\n",
        "plt.xlabel('Pclass')\n",
        "plt.show()"
      ]
    },
    {
      "cell_type": "markdown",
      "metadata": {},
      "source": [
        "survival rate across passenger class 1 is > 60%\n",
        "survival rate across passenger class 2 is >40%\n",
        "survival rate across passenger class 3 is >20%\n",
        "therfore class 1 has the highest survival rate and class 3 has the lowest survival rate."
      ]
    },
    {
      "cell_type": "code",
      "execution_count": 6,
      "metadata": {
        "colab": {
          "base_uri": "https://localhost:8080/",
          "height": 472
        },
        "id": "wDBqqdJHV1si",
        "outputId": "0f003c94-2031-454c-ef89-e76d703025a3"
      },
      "outputs": [
        {
          "data": {
            "image/png": "[encoded data removed]",
            "text/plain": [
              "<Figure size 640x480 with 1 Axes>"
            ]
          },
          "metadata": {},
          "output_type": "display_data"
        }
      ],
      "source": [
        "#Plot the age distribution \n",
        "sns.histplot(df['Age'], bins=30, kde=True, color='skyblue')\n",
        "plt.title('Overall Age Distribution')\n",
        "plt.xlabel('Age')\n",
        "plt.ylabel('Count')\n",
        "plt.show()"
      ]
    },
    {
      "cell_type": "markdown",
      "metadata": {},
      "source": [
        "the least frequent age of passengers is 80 \n",
        "and the more frequent age of passengers is between 20 and 25"
      ]
    },
    {
      "cell_type": "code",
      "execution_count": 7,
      "metadata": {
        "colab": {
          "base_uri": "https://localhost:8080/",
          "height": 524
        },
        "id": "jHQMMiJGXnz4",
        "outputId": "4bc9681f-7080-4715-c0a1-d0523a016dfc"
      },
      "outputs": [
        {
          "name": "stdout",
          "output_type": "stream",
          "text": [
            "Average Age Comparison:\n",
            "Non-survivors (0): 30.63 years\n",
            "Survivors     (1): 28.34 years\n"
          ]
        },
        {
          "data": {
            "image/png": "[encoded data removed]",
            "text/plain": [
              "<Figure size 640x480 with 1 Axes>"
            ]
          },
          "metadata": {},
          "output_type": "display_data"
        }
      ],
      "source": [
        "#compare the average age of survivors vs non-survivors\n",
        "avg_age = df.groupby('Survived')['Age'].mean()\n",
        "\n",
        "print(\"Average Age Comparison:\")\n",
        "print(f\"Non-survivors (0): {avg_age[0]:.2f} years\")\n",
        "print(f\"Survivors     (1): {avg_age[1]:.2f} years\")\n",
        "avg_age.plot(kind='bar', color=['salmon', 'lightgreen'])\n",
        "plt.title('Average Age: Survivors vs Non-Survivors')\n",
        "plt.xlabel('Survived')\n",
        "plt.ylabel('Average Age')\n",
        "plt.xticks([0, 1], ['No', 'Yes'], rotation=0)\n",
        "plt.show()"
      ]
    },
    {
      "cell_type": "markdown",
      "metadata": {},
      "source": [
        "the average age of Non-survivors(30.63 years) is greater than the average age of survivors(28.34 years)"
      ]
    },
    {
      "cell_type": "code",
      "execution_count": 8,
      "metadata": {
        "colab": {
          "base_uri": "https://localhost:8080/"
        },
        "id": "ynvtL1PmX7PJ",
        "outputId": "13ded2b1-521b-4391-dadf-0f319e45bac0"
      },
      "outputs": [
        {
          "name": "stdout",
          "output_type": "stream",
          "text": [
            "has_family\n",
            "False    30.353818\n",
            "True     50.564972\n",
            "Name: Survived, dtype: float64\n"
          ]
        }
      ],
      "source": [
        "#check if  passengers with family (SibSp or Parch) have higher survival rates\n",
        "df['family'] = df['SibSp'] + df['Parch']\n",
        "df['has_family'] = df['family'] > 0\n",
        "\n",
        "survival_with_family = df.groupby('has_family')['Survived'].mean() * 100\n",
        "print(survival_with_family)"
      ]
    },
    {
      "cell_type": "markdown",
      "metadata": {},
      "source": [
        "passengers with family have higher survival rates than other passengers"
      ]
    },
    {
      "cell_type": "code",
      "execution_count": 9,
      "metadata": {
        "colab": {
          "base_uri": "https://localhost:8080/"
        },
        "id": "5L3vkdHYYftG",
        "outputId": "163fd2f9-84c3-40f8-a622-3369556c24e9"
      },
      "outputs": [
        {
          "name": "stdout",
          "output_type": "stream",
          "text": [
            "paid_high\n",
            "False    31.764706\n",
            "True     59.715640\n",
            "Name: Survived, dtype: float64\n"
          ]
        }
      ],
      "source": [
        "#calculate the survival rate for passengers who paid more than the average fare\n",
        "avg_fare = df['Fare'].mean()\n",
        "df['paid_high'] = df['Fare'] > avg_fare\n",
        "\n",
        "high_fare_survival = df.groupby('paid_high')['Survived'].mean() * 100\n",
        "print(high_fare_survival)"
      ]
    },
    {
      "cell_type": "markdown",
      "metadata": {},
      "source": [
        "passengers who paid more than the average fare(high paid )  have  higher survival rate than passengers with low paid"
      ]
    },
    {
      "cell_type": "code",
      "execution_count": 10,
      "metadata": {},
      "outputs": [
        {
          "data": {
            "text/html": [
              "<div>\n",
              "<style scoped>\n",
              "    .dataframe tbody tr th:only-of-type {\n",
              "        vertical-align: middle;\n",
              "    }\n",
              "\n",
              "    .dataframe tbody tr th {\n",
              "        vertical-align: top;\n",
              "    }\n",
              "\n",
              "    .dataframe thead th {\n",
              "        text-align: right;\n",
              "    }\n",
              "</style>\n",
              "<table border=\"1\" class=\"dataframe\">\n",
              "  <thead>\n",
              "    <tr style=\"text-align: right;\">\n",
              "      <th></th>\n",
              "      <th>PassengerId</th>\n",
              "      <th>Survived</th>\n",
              "      <th>Pclass</th>\n",
              "      <th>Name</th>\n",
              "      <th>Sex</th>\n",
              "      <th>Age</th>\n",
              "      <th>SibSp</th>\n",
              "      <th>Parch</th>\n",
              "      <th>Ticket</th>\n",
              "      <th>Fare</th>\n",
              "      <th>Cabin</th>\n",
              "      <th>Embarked</th>\n",
              "      <th>family</th>\n",
              "      <th>has_family</th>\n",
              "      <th>paid_high</th>\n",
              "    </tr>\n",
              "  </thead>\n",
              "  <tbody>\n",
              "    <tr>\n",
              "      <th>Null_sum</th>\n",
              "      <td>0.0</td>\n",
              "      <td>0.0</td>\n",
              "      <td>0.0</td>\n",
              "      <td>0.0</td>\n",
              "      <td>0.0</td>\n",
              "      <td>177.000000</td>\n",
              "      <td>0.0</td>\n",
              "      <td>0.0</td>\n",
              "      <td>0.0</td>\n",
              "      <td>0.0</td>\n",
              "      <td>687.000000</td>\n",
              "      <td>2.000000</td>\n",
              "      <td>0.0</td>\n",
              "      <td>0.0</td>\n",
              "      <td>0.0</td>\n",
              "    </tr>\n",
              "    <tr>\n",
              "      <th>Ratio</th>\n",
              "      <td>0.0</td>\n",
              "      <td>0.0</td>\n",
              "      <td>0.0</td>\n",
              "      <td>0.0</td>\n",
              "      <td>0.0</td>\n",
              "      <td>0.198653</td>\n",
              "      <td>0.0</td>\n",
              "      <td>0.0</td>\n",
              "      <td>0.0</td>\n",
              "      <td>0.0</td>\n",
              "      <td>0.771044</td>\n",
              "      <td>0.002245</td>\n",
              "      <td>0.0</td>\n",
              "      <td>0.0</td>\n",
              "      <td>0.0</td>\n",
              "    </tr>\n",
              "  </tbody>\n",
              "</table>\n",
              "</div>"
            ],
            "text/plain": [
              "          PassengerId  Survived  Pclass  Name  Sex         Age  SibSp  Parch  \\\n",
              "Null_sum          0.0       0.0     0.0   0.0  0.0  177.000000    0.0    0.0   \n",
              "Ratio             0.0       0.0     0.0   0.0  0.0    0.198653    0.0    0.0   \n",
              "\n",
              "          Ticket  Fare       Cabin  Embarked  family  has_family  paid_high  \n",
              "Null_sum     0.0   0.0  687.000000  2.000000     0.0         0.0        0.0  \n",
              "Ratio        0.0   0.0    0.771044  0.002245     0.0         0.0        0.0  "
            ]
          },
          "execution_count": 10,
          "metadata": {},
          "output_type": "execute_result"
        }
      ],
      "source": [
        "#check about nulls (empty rows) and its ratio \n",
        "null=df.isnull().sum()\n",
        "ratio=null/df.shape[0]\n",
        "pd.DataFrame({\"Null_sum\":null,\"Ratio\":ratio}).T"
      ]
    },
    {
      "cell_type": "markdown",
      "metadata": {},
      "source": [
        "embarked have  0.002245\tratio of nulls only of data which have very low ratio of nulls on data then we will drop only null rows \n",
        ",Cabin have 0.771044 ratio of nulls only of data which is very high ratio of nulls on data then we will drop this column and Age have 0.198653 ratio of nulls only of data so we will handel this column nulls "
      ]
    },
    {
      "cell_type": "code",
      "execution_count": 11,
      "metadata": {},
      "outputs": [],
      "source": [
        "#drop emparked null rowms only\n",
        "df=df.dropna(subset=['Embarked'])\n",
        "#drop cabin column\n",
        "df=df.drop(\"Cabin\",axis=1)"
      ]
    },
    {
      "cell_type": "code",
      "execution_count": 12,
      "metadata": {},
      "outputs": [
        {
          "data": {
            "image/png": "[encoded data removed]",
            "text/plain": [
              "<Figure size 400x200 with 1 Axes>"
            ]
          },
          "metadata": {},
          "output_type": "display_data"
        }
      ],
      "source": [
        "#check if age column has normal distribution then apply mean to nulls \n",
        "plt.figure(figsize=(4,2))\n",
        "plt.hist(df['Age'],density=True,edgecolor=\"black\")\n",
        "plt.title(\"Age column distribution\")\n",
        "plt.xlabel(\"Age\")\n",
        "plt.ylabel(\"propapility\")\n",
        "plt.show()"
      ]
    },
    {
      "cell_type": "markdown",
      "metadata": {},
      "source": [
        "column age doesnt have normal distribution "
      ]
    },
    {
      "cell_type": "code",
      "execution_count": 13,
      "metadata": {},
      "outputs": [],
      "source": [
        "#fill nulls of age column with meadian\n",
        "median=df[\"Age\"].median()\n",
        "median\n",
        "df[\"Age\"].fillna(median,inplace=True)"
      ]
    },
    {
      "cell_type": "code",
      "execution_count": 14,
      "metadata": {},
      "outputs": [
        {
          "data": {
            "text/html": [
              "<div>\n",
              "<style scoped>\n",
              "    .dataframe tbody tr th:only-of-type {\n",
              "        vertical-align: middle;\n",
              "    }\n",
              "\n",
              "    .dataframe tbody tr th {\n",
              "        vertical-align: top;\n",
              "    }\n",
              "\n",
              "    .dataframe thead th {\n",
              "        text-align: right;\n",
              "    }\n",
              "</style>\n",
              "<table border=\"1\" class=\"dataframe\">\n",
              "  <thead>\n",
              "    <tr style=\"text-align: right;\">\n",
              "      <th></th>\n",
              "      <th>PassengerId</th>\n",
              "      <th>Survived</th>\n",
              "      <th>Pclass</th>\n",
              "      <th>Name</th>\n",
              "      <th>Sex</th>\n",
              "      <th>Age</th>\n",
              "      <th>SibSp</th>\n",
              "      <th>Parch</th>\n",
              "      <th>Ticket</th>\n",
              "      <th>Fare</th>\n",
              "      <th>Embarked</th>\n",
              "      <th>family</th>\n",
              "      <th>has_family</th>\n",
              "      <th>paid_high</th>\n",
              "    </tr>\n",
              "  </thead>\n",
              "  <tbody>\n",
              "    <tr>\n",
              "      <th>0</th>\n",
              "      <td>0</td>\n",
              "      <td>0</td>\n",
              "      <td>0</td>\n",
              "      <td>0</td>\n",
              "      <td>0</td>\n",
              "      <td>0</td>\n",
              "      <td>0</td>\n",
              "      <td>0</td>\n",
              "      <td>0</td>\n",
              "      <td>0</td>\n",
              "      <td>0</td>\n",
              "      <td>0</td>\n",
              "      <td>0</td>\n",
              "      <td>0</td>\n",
              "    </tr>\n",
              "  </tbody>\n",
              "</table>\n",
              "</div>"
            ],
            "text/plain": [
              "   PassengerId  Survived  Pclass  Name  Sex  Age  SibSp  Parch  Ticket  Fare  \\\n",
              "0            0         0       0     0    0    0      0      0       0     0   \n",
              "\n",
              "   Embarked  family  has_family  paid_high  \n",
              "0         0       0           0          0  "
            ]
          },
          "execution_count": 14,
          "metadata": {},
          "output_type": "execute_result"
        }
      ],
      "source": [
        "pd.DataFrame(df.isnull().sum()).T"
      ]
    },
    {
      "cell_type": "markdown",
      "metadata": {},
      "source": [
        "there isn't any nulls in the dataset "
      ]
    },
    {
      "cell_type": "code",
      "execution_count": 15,
      "metadata": {},
      "outputs": [
        {
          "data": {
            "text/plain": [
              "np.int64(0)"
            ]
          },
          "execution_count": 15,
          "metadata": {},
          "output_type": "execute_result"
        }
      ],
      "source": [
        "#check about duplicated rows\n",
        "df.duplicated().sum()\n"
      ]
    },
    {
      "cell_type": "markdown",
      "metadata": {},
      "source": [
        "there isnot any duplicated row"
      ]
    },
    {
      "cell_type": "code",
      "execution_count": 16,
      "metadata": {
        "colab": {
          "base_uri": "https://localhost:8080/"
        },
        "id": "eP3Ef5FzZAZe",
        "outputId": "965ab96c-50d2-4854-a0fa-20c96fe805b8"
      },
      "outputs": [
        {
          "name": "stdout",
          "output_type": "stream",
          "text": [
            "age_group\n",
            "adult     36.491677\n",
            "child     59.036145\n",
            "senior    24.000000\n",
            "Name: Survived, dtype: float64\n"
          ]
        }
      ],
      "source": [
        "def get_age_group(age):\n",
        "    if pd.isnull(age):\n",
        "        return 'unknown'\n",
        "    elif age < 16:\n",
        "        return 'child'\n",
        "    elif age < 60:\n",
        "        return 'adult'\n",
        "    else:\n",
        "        return 'senior'\n",
        "\n",
        "df['age_group'] = df['Age'].apply(get_age_group)\n",
        "\n",
        "group_survival = df.groupby('age_group')['Survived'].mean() * 100\n",
        "print(group_survival)"
      ]
    },
    {
      "cell_type": "markdown",
      "metadata": {},
      "source": [
        "the child passengers (age < 16) have the highest survivel rate which is 59.036145\n",
        ",the adult passengers (age < 60) have the middle survivel rate which is 36.491677\n",
        "and the senior passengers (age > 60) have the lowest survivel rate which is 24.000000\n"
      ]
    },
    {
      "cell_type": "code",
      "execution_count": 17,
      "metadata": {},
      "outputs": [
        {
          "data": {
            "text/html": [
              "<div>\n",
              "<style scoped>\n",
              "    .dataframe tbody tr th:only-of-type {\n",
              "        vertical-align: middle;\n",
              "    }\n",
              "\n",
              "    .dataframe tbody tr th {\n",
              "        vertical-align: top;\n",
              "    }\n",
              "\n",
              "    .dataframe thead th {\n",
              "        text-align: right;\n",
              "    }\n",
              "</style>\n",
              "<table border=\"1\" class=\"dataframe\">\n",
              "  <thead>\n",
              "    <tr style=\"text-align: right;\">\n",
              "      <th></th>\n",
              "      <th>PassengerId</th>\n",
              "      <th>Survived</th>\n",
              "      <th>Pclass</th>\n",
              "      <th>Name</th>\n",
              "      <th>Sex</th>\n",
              "      <th>Age</th>\n",
              "      <th>SibSp</th>\n",
              "      <th>Parch</th>\n",
              "      <th>Ticket</th>\n",
              "      <th>Fare</th>\n",
              "      <th>Embarked</th>\n",
              "      <th>family</th>\n",
              "      <th>has_family</th>\n",
              "      <th>paid_high</th>\n",
              "      <th>age_group</th>\n",
              "    </tr>\n",
              "  </thead>\n",
              "  <tbody>\n",
              "    <tr>\n",
              "      <th>0</th>\n",
              "      <td>1</td>\n",
              "      <td>0</td>\n",
              "      <td>3</td>\n",
              "      <td>Braund, Mr. Owen Harris</td>\n",
              "      <td>male</td>\n",
              "      <td>22.0</td>\n",
              "      <td>1</td>\n",
              "      <td>0</td>\n",
              "      <td>A/5 21171</td>\n",
              "      <td>7.2500</td>\n",
              "      <td>S</td>\n",
              "      <td>1</td>\n",
              "      <td>True</td>\n",
              "      <td>False</td>\n",
              "      <td>adult</td>\n",
              "    </tr>\n",
              "    <tr>\n",
              "      <th>1</th>\n",
              "      <td>2</td>\n",
              "      <td>1</td>\n",
              "      <td>1</td>\n",
              "      <td>Cumings, Mrs. John Bradley (Florence Briggs Th...</td>\n",
              "      <td>female</td>\n",
              "      <td>38.0</td>\n",
              "      <td>1</td>\n",
              "      <td>0</td>\n",
              "      <td>PC 17599</td>\n",
              "      <td>71.2833</td>\n",
              "      <td>C</td>\n",
              "      <td>1</td>\n",
              "      <td>True</td>\n",
              "      <td>True</td>\n",
              "      <td>adult</td>\n",
              "    </tr>\n",
              "    <tr>\n",
              "      <th>2</th>\n",
              "      <td>3</td>\n",
              "      <td>1</td>\n",
              "      <td>3</td>\n",
              "      <td>Heikkinen, Miss. Laina</td>\n",
              "      <td>female</td>\n",
              "      <td>26.0</td>\n",
              "      <td>0</td>\n",
              "      <td>0</td>\n",
              "      <td>STON/O2. 3101282</td>\n",
              "      <td>7.9250</td>\n",
              "      <td>S</td>\n",
              "      <td>0</td>\n",
              "      <td>False</td>\n",
              "      <td>False</td>\n",
              "      <td>adult</td>\n",
              "    </tr>\n",
              "    <tr>\n",
              "      <th>3</th>\n",
              "      <td>4</td>\n",
              "      <td>1</td>\n",
              "      <td>1</td>\n",
              "      <td>Futrelle, Mrs. Jacques Heath (Lily May Peel)</td>\n",
              "      <td>female</td>\n",
              "      <td>35.0</td>\n",
              "      <td>1</td>\n",
              "      <td>0</td>\n",
              "      <td>113803</td>\n",
              "      <td>53.1000</td>\n",
              "      <td>S</td>\n",
              "      <td>1</td>\n",
              "      <td>True</td>\n",
              "      <td>True</td>\n",
              "      <td>adult</td>\n",
              "    </tr>\n",
              "    <tr>\n",
              "      <th>4</th>\n",
              "      <td>5</td>\n",
              "      <td>0</td>\n",
              "      <td>3</td>\n",
              "      <td>Allen, Mr. William Henry</td>\n",
              "      <td>male</td>\n",
              "      <td>35.0</td>\n",
              "      <td>0</td>\n",
              "      <td>0</td>\n",
              "      <td>373450</td>\n",
              "      <td>8.0500</td>\n",
              "      <td>S</td>\n",
              "      <td>0</td>\n",
              "      <td>False</td>\n",
              "      <td>False</td>\n",
              "      <td>adult</td>\n",
              "    </tr>\n",
              "  </tbody>\n",
              "</table>\n",
              "</div>"
            ],
            "text/plain": [
              "   PassengerId  Survived  Pclass  \\\n",
              "0            1         0       3   \n",
              "1            2         1       1   \n",
              "2            3         1       3   \n",
              "3            4         1       1   \n",
              "4            5         0       3   \n",
              "\n",
              "                                                Name     Sex   Age  SibSp  \\\n",
              "0                            Braund, Mr. Owen Harris    male  22.0      1   \n",
              "1  Cumings, Mrs. John Bradley (Florence Briggs Th...  female  38.0      1   \n",
              "2                             Heikkinen, Miss. Laina  female  26.0      0   \n",
              "3       Futrelle, Mrs. Jacques Heath (Lily May Peel)  female  35.0      1   \n",
              "4                           Allen, Mr. William Henry    male  35.0      0   \n",
              "\n",
              "   Parch            Ticket     Fare Embarked  family  has_family  paid_high  \\\n",
              "0      0         A/5 21171   7.2500        S       1        True      False   \n",
              "1      0          PC 17599  71.2833        C       1        True       True   \n",
              "2      0  STON/O2. 3101282   7.9250        S       0       False      False   \n",
              "3      0            113803  53.1000        S       1        True       True   \n",
              "4      0            373450   8.0500        S       0       False      False   \n",
              "\n",
              "  age_group  \n",
              "0     adult  \n",
              "1     adult  \n",
              "2     adult  \n",
              "3     adult  \n",
              "4     adult  "
            ]
          },
          "execution_count": 17,
          "metadata": {},
          "output_type": "execute_result"
        }
      ],
      "source": [
        "df.head()"
      ]
    },
    {
      "cell_type": "code",
      "execution_count": 18,
      "metadata": {
        "colab": {
          "base_uri": "https://localhost:8080/",
          "height": 614
        },
        "id": "MBgnVzQvdm6a",
        "outputId": "05322cb0-f0f0-451e-b8f6-3d7a153908f6"
      },
      "outputs": [
        {
          "data": {
            "image/png": "[encoded data removed]",
            "text/plain": [
              "<Figure size 1000x600 with 2 Axes>"
            ]
          },
          "metadata": {},
          "output_type": "display_data"
        }
      ],
      "source": [
        "#heatmap to display the corelation between numerical data\n",
        "plt.figure(figsize=(10, 6))\n",
        "sns.heatmap(df.corr(numeric_only=True), annot=True, cmap='coolwarm')\n",
        "plt.title('Correlation Heatmap Between Numerical Columns')\n",
        "plt.show()"
      ]
    },
    {
      "cell_type": "markdown",
      "metadata": {},
      "source": [
        "column passenger id doesnt have any strong relation with any column so it isnot an important column ,column survived doesnt have any strong relation with any column  because it needs to convert into category datatype ,column pclass has strong relation with Paid_high (-0.61) and Fare (0.55) and it has weak relation with other columns,column Age doesnt have any strong relation with any column (but its an important column ) ,column SibSp has strong relation with Family (0.89) and has_family (0.58) and it has weak relation with other columns ,column Parch has strong relation with Family (0.78) and has_family (0.58) and it has weak relation with other columns ,column Fare has strong relation with Paid_high (0.67) and pclass (-0.55) and it has weak relation with other columns,column Family has strong relation with SibSp (0.89) ,has_family (0.69) and Parch (0.78) and it has weak relation with other columns ,column has_family has strong relation with SibSp (0.58) ,Parch (0.58) and family (0.69) and it has weak relation with other columns ,column paid_high has strong relation with pclass (-0.61) and Fare (0.67) and it has weak relation with other columns"
      ]
    },
    {
      "cell_type": "code",
      "execution_count": 19,
      "metadata": {
        "colab": {
          "base_uri": "https://localhost:8080/",
          "height": 573
        },
        "id": "E2P-jOUrdsoQ",
        "outputId": "b54d2f56-6a21-40c6-e6fa-8d3a9d65d435"
      },
      "outputs": [
        {
          "data": {
            "image/png": "[encoded data removed]",
            "text/plain": [
              "<Figure size 640x480 with 1 Axes>"
            ]
          },
          "metadata": {},
          "output_type": "display_data"
        },
        {
          "name": "stdout",
          "output_type": "stream",
          "text": [
            "Embarked\n",
            "C    55.357143\n",
            "Q    38.961039\n",
            "S    33.695652\n",
            "Name: Survived, dtype: float64\n",
            "Location with highest survival rate: C\n"
          ]
        }
      ],
      "source": [
        "#Plot survival counts for each Embarked location (Embarked)\n",
        "survival_by_embarked = df.groupby(['Embarked', 'Survived']).size().unstack()\n",
        "\n",
        "survival_by_embarked.plot(kind='bar')\n",
        "plt.title('Survival Count by Embarked Location')\n",
        "plt.xlabel('Embarked Location')\n",
        "plt.ylabel('Passenger Count')\n",
        "plt.legend(['Did Not Survive', 'Survived'])\n",
        "plt.show()\n",
        "\n",
        "survival_rate = df.groupby('Embarked')['Survived'].mean()*100\n",
        "print(survival_rate)\n",
        "print(\"Location with highest survival rate:\", survival_rate.idxmax())"
      ]
    },
    {
      "cell_type": "markdown",
      "metadata": {},
      "source": [
        "the embarked location C have the highest survivel rate which is 55.357143\n",
        "the embarked location Q have the middle survivel rate which is 38.961039\n",
        "the embarked location S have the smallest survivel rate which is 55.357143\n",
        "and the plot shows that in Q,S number of passengers not survived is more than survived while in C number of passengers survived is more than not survived.\n"
      ]
    },
    {
      "cell_type": "code",
      "execution_count": 20,
      "metadata": {},
      "outputs": [],
      "source": [
        "#drop the new added columns\n",
        "df=df.drop(['family','has_family','age_group','paid_high'],axis=1)"
      ]
    },
    {
      "cell_type": "code",
      "execution_count": 21,
      "metadata": {},
      "outputs": [
        {
          "data": {
            "text/html": [
              "<div>\n",
              "<style scoped>\n",
              "    .dataframe tbody tr th:only-of-type {\n",
              "        vertical-align: middle;\n",
              "    }\n",
              "\n",
              "    .dataframe tbody tr th {\n",
              "        vertical-align: top;\n",
              "    }\n",
              "\n",
              "    .dataframe thead th {\n",
              "        text-align: right;\n",
              "    }\n",
              "</style>\n",
              "<table border=\"1\" class=\"dataframe\">\n",
              "  <thead>\n",
              "    <tr style=\"text-align: right;\">\n",
              "      <th></th>\n",
              "      <th>PassengerId</th>\n",
              "      <th>Survived</th>\n",
              "      <th>Pclass</th>\n",
              "      <th>Name</th>\n",
              "      <th>Sex</th>\n",
              "      <th>Age</th>\n",
              "      <th>SibSp</th>\n",
              "      <th>Parch</th>\n",
              "      <th>Ticket</th>\n",
              "      <th>Fare</th>\n",
              "      <th>Embarked</th>\n",
              "    </tr>\n",
              "  </thead>\n",
              "  <tbody>\n",
              "    <tr>\n",
              "      <th>Dtypes</th>\n",
              "      <td>int64</td>\n",
              "      <td>int64</td>\n",
              "      <td>int64</td>\n",
              "      <td>object</td>\n",
              "      <td>object</td>\n",
              "      <td>float64</td>\n",
              "      <td>int64</td>\n",
              "      <td>int64</td>\n",
              "      <td>object</td>\n",
              "      <td>float64</td>\n",
              "      <td>object</td>\n",
              "    </tr>\n",
              "    <tr>\n",
              "      <th>Num_Unique</th>\n",
              "      <td>889</td>\n",
              "      <td>2</td>\n",
              "      <td>3</td>\n",
              "      <td>889</td>\n",
              "      <td>2</td>\n",
              "      <td>88</td>\n",
              "      <td>7</td>\n",
              "      <td>7</td>\n",
              "      <td>680</td>\n",
              "      <td>247</td>\n",
              "      <td>3</td>\n",
              "    </tr>\n",
              "  </tbody>\n",
              "</table>\n",
              "</div>"
            ],
            "text/plain": [
              "           PassengerId Survived Pclass    Name     Sex      Age  SibSp  Parch  \\\n",
              "Dtypes           int64    int64  int64  object  object  float64  int64  int64   \n",
              "Num_Unique         889        2      3     889       2       88      7      7   \n",
              "\n",
              "            Ticket     Fare Embarked  \n",
              "Dtypes      object  float64   object  \n",
              "Num_Unique     680      247        3  "
            ]
          },
          "execution_count": 21,
          "metadata": {},
          "output_type": "execute_result"
        }
      ],
      "source": [
        "#show number of unique values in each column and their datatypes\n",
        "dtypes=df.dtypes\n",
        "n_uniq=df.nunique()\n",
        "pd.DataFrame({\"Dtypes\":dtypes,\"Num_Unique\":n_uniq}).T"
      ]
    },
    {
      "cell_type": "markdown",
      "metadata": {},
      "source": [
        "number of unique values  and data type in each column : PassengerId=889 (int64),Survived=2 (int64),Pclass=3 (int64),Name=889 (object),Sex=2 (object),Age=88 (float64),SibSp=7 (int64),Parch=7 (int64) ,Ticket=680 (object),Fare=247 (float64),Embarked=3 (object)"
      ]
    },
    {
      "cell_type": "code",
      "execution_count": 22,
      "metadata": {},
      "outputs": [
        {
          "data": {
            "text/html": [
              "<div>\n",
              "<style scoped>\n",
              "    .dataframe tbody tr th:only-of-type {\n",
              "        vertical-align: middle;\n",
              "    }\n",
              "\n",
              "    .dataframe tbody tr th {\n",
              "        vertical-align: top;\n",
              "    }\n",
              "\n",
              "    .dataframe thead th {\n",
              "        text-align: right;\n",
              "    }\n",
              "</style>\n",
              "<table border=\"1\" class=\"dataframe\">\n",
              "  <thead>\n",
              "    <tr style=\"text-align: right;\">\n",
              "      <th></th>\n",
              "      <th>PassengerId</th>\n",
              "      <th>Survived</th>\n",
              "      <th>Pclass</th>\n",
              "      <th>Name</th>\n",
              "      <th>Sex</th>\n",
              "      <th>Age</th>\n",
              "      <th>SibSp</th>\n",
              "      <th>Parch</th>\n",
              "      <th>Ticket</th>\n",
              "      <th>Fare</th>\n",
              "      <th>Embarked</th>\n",
              "    </tr>\n",
              "  </thead>\n",
              "  <tbody>\n",
              "    <tr>\n",
              "      <th>0</th>\n",
              "      <td>int64</td>\n",
              "      <td>category</td>\n",
              "      <td>category</td>\n",
              "      <td>object</td>\n",
              "      <td>category</td>\n",
              "      <td>float64</td>\n",
              "      <td>category</td>\n",
              "      <td>category</td>\n",
              "      <td>object</td>\n",
              "      <td>float64</td>\n",
              "      <td>category</td>\n",
              "    </tr>\n",
              "  </tbody>\n",
              "</table>\n",
              "</div>"
            ],
            "text/plain": [
              "  PassengerId  Survived    Pclass    Name       Sex      Age     SibSp  \\\n",
              "0       int64  category  category  object  category  float64  category   \n",
              "\n",
              "      Parch  Ticket     Fare  Embarked  \n",
              "0  category  object  float64  category  "
            ]
          },
          "execution_count": 22,
          "metadata": {},
          "output_type": "execute_result"
        }
      ],
      "source": [
        "#convert some columns into category datatype\n",
        "cols=[\"Pclass\",\"SibSp\",\"Parch\",\"Sex\",\"Embarked\",\"Survived\"]\n",
        "df[cols]=df[cols].astype('category')\n",
        "pd.DataFrame(df.dtypes).T"
      ]
    },
    {
      "cell_type": "markdown",
      "metadata": {},
      "source": [
        "Pclass,SibSp,Parch,Sex,Embarked,Survived are converted into categories while the other columns still the same"
      ]
    },
    {
      "cell_type": "code",
      "execution_count": 23,
      "metadata": {},
      "outputs": [
        {
          "data": {
            "text/html": [
              "<div>\n",
              "<style scoped>\n",
              "    .dataframe tbody tr th:only-of-type {\n",
              "        vertical-align: middle;\n",
              "    }\n",
              "\n",
              "    .dataframe tbody tr th {\n",
              "        vertical-align: top;\n",
              "    }\n",
              "\n",
              "    .dataframe thead th {\n",
              "        text-align: right;\n",
              "    }\n",
              "</style>\n",
              "<table border=\"1\" class=\"dataframe\">\n",
              "  <thead>\n",
              "    <tr style=\"text-align: right;\">\n",
              "      <th></th>\n",
              "      <th>Survived</th>\n",
              "      <th>Pclass</th>\n",
              "      <th>Sex</th>\n",
              "      <th>Age</th>\n",
              "      <th>SibSp</th>\n",
              "      <th>Parch</th>\n",
              "      <th>Fare</th>\n",
              "      <th>Embarked</th>\n",
              "    </tr>\n",
              "  </thead>\n",
              "  <tbody>\n",
              "    <tr>\n",
              "      <th>0</th>\n",
              "      <td>0</td>\n",
              "      <td>3</td>\n",
              "      <td>male</td>\n",
              "      <td>22.0</td>\n",
              "      <td>1</td>\n",
              "      <td>0</td>\n",
              "      <td>7.2500</td>\n",
              "      <td>S</td>\n",
              "    </tr>\n",
              "    <tr>\n",
              "      <th>1</th>\n",
              "      <td>1</td>\n",
              "      <td>1</td>\n",
              "      <td>female</td>\n",
              "      <td>38.0</td>\n",
              "      <td>1</td>\n",
              "      <td>0</td>\n",
              "      <td>71.2833</td>\n",
              "      <td>C</td>\n",
              "    </tr>\n",
              "    <tr>\n",
              "      <th>2</th>\n",
              "      <td>1</td>\n",
              "      <td>3</td>\n",
              "      <td>female</td>\n",
              "      <td>26.0</td>\n",
              "      <td>0</td>\n",
              "      <td>0</td>\n",
              "      <td>7.9250</td>\n",
              "      <td>S</td>\n",
              "    </tr>\n",
              "    <tr>\n",
              "      <th>3</th>\n",
              "      <td>1</td>\n",
              "      <td>1</td>\n",
              "      <td>female</td>\n",
              "      <td>35.0</td>\n",
              "      <td>1</td>\n",
              "      <td>0</td>\n",
              "      <td>53.1000</td>\n",
              "      <td>S</td>\n",
              "    </tr>\n",
              "    <tr>\n",
              "      <th>4</th>\n",
              "      <td>0</td>\n",
              "      <td>3</td>\n",
              "      <td>male</td>\n",
              "      <td>35.0</td>\n",
              "      <td>0</td>\n",
              "      <td>0</td>\n",
              "      <td>8.0500</td>\n",
              "      <td>S</td>\n",
              "    </tr>\n",
              "  </tbody>\n",
              "</table>\n",
              "</div>"
            ],
            "text/plain": [
              "  Survived Pclass     Sex   Age SibSp Parch     Fare Embarked\n",
              "0        0      3    male  22.0     1     0   7.2500        S\n",
              "1        1      1  female  38.0     1     0  71.2833        C\n",
              "2        1      3  female  26.0     0     0   7.9250        S\n",
              "3        1      1  female  35.0     1     0  53.1000        S\n",
              "4        0      3    male  35.0     0     0   8.0500        S"
            ]
          },
          "execution_count": 23,
          "metadata": {},
          "output_type": "execute_result"
        }
      ],
      "source": [
        "#delete unimportent columns\n",
        "df.drop([\"PassengerId\",\"Name\",\"Ticket\"],axis=1,inplace=True)\n",
        "df.head()"
      ]
    },
    {
      "cell_type": "markdown",
      "metadata": {},
      "source": [
        "dataframe become without these columns (PassengerId,Name,Ticket)"
      ]
    },
    {
      "cell_type": "code",
      "execution_count": 24,
      "metadata": {
        "colab": {
          "base_uri": "https://localhost:8080/",
          "height": 360
        },
        "id": "tbCfUVoAYuF5",
        "outputId": "b325f696-6f69-4f68-acba-9c58c0d2fa4e"
      },
      "outputs": [
        {
          "data": {
            "image/png": "[encoded data removed]",
            "text/plain": [
              "<Figure size 2000x300 with 2 Axes>"
            ]
          },
          "metadata": {},
          "output_type": "display_data"
        }
      ],
      "source": [
        "#check about outliers\n",
        "num_cols = df.select_dtypes(\"number\").columns\n",
        "\n",
        "n_cols = 4\n",
        "n_rows = (len(num_cols) + n_cols - 1) // n_cols\n",
        "\n",
        "fig, axes = plt.subplots(n_rows, n_cols, figsize=(20, 3 * n_rows))\n",
        "axes = axes.flatten()\n",
        "\n",
        "for i, col in enumerate(num_cols):\n",
        "    sns.boxplot(x=df[col], ax=axes[i], orient=\"h\")\n",
        "    axes[i].set_title(f\"{col} boxplot\")\n",
        "for j in range(i+1, len(axes)):\n",
        "    fig.delaxes(axes[j])\n",
        "\n",
        "plt.tight_layout()\n",
        "plt.show()"
      ]
    },
    {
      "cell_type": "markdown",
      "metadata": {},
      "source": [
        "columns Age,Fare have outliers "
      ]
    },
    {
      "cell_type": "code",
      "execution_count": 25,
      "metadata": {
        "id": "qwV2Z_wyZHvB"
      },
      "outputs": [],
      "source": [
        "#remove outliers\n",
        "for col in num_cols:\n",
        "  Q1=df[col].quantile(.25)\n",
        "  Q3=df[col].quantile(.75)\n",
        "  IQR=Q3-Q1\n",
        "  lower_Fence=Q1-1.5*IQR\n",
        "  upper_Fence=Q3+1.5*IQR\n",
        "  lower_outliers=df[df[col]<lower_Fence][col].values\n",
        "  upper_outliers=df[df[col]>upper_Fence][col].values\n",
        "  df[col].replace(lower_outliers,lower_Fence,inplace=True)\n",
        "  df[col].replace(upper_outliers,upper_Fence,inplace=True)"
      ]
    },
    {
      "cell_type": "code",
      "execution_count": 26,
      "metadata": {
        "colab": {
          "base_uri": "https://localhost:8080/",
          "height": 360
        },
        "id": "4nk7HaPCZMXx",
        "outputId": "d7e60ef7-1f3a-435e-8fd8-0105a2e6a251"
      },
      "outputs": [
        {
          "data": {
            "image/png": "[encoded data removed]",
            "text/plain": [
              "<Figure size 2000x300 with 2 Axes>"
            ]
          },
          "metadata": {},
          "output_type": "display_data"
        }
      ],
      "source": [
        "#check again about outliers\n",
        "\n",
        "num_cols = df.select_dtypes(\"number\").columns\n",
        "\n",
        "n_cols = 4\n",
        "n_rows = (len(num_cols) + n_cols - 1) // n_cols\n",
        "\n",
        "fig, axes = plt.subplots(n_rows, n_cols, figsize=(20, 3 * n_rows))\n",
        "axes = axes.flatten()\n",
        "\n",
        "for i, col in enumerate(num_cols):\n",
        "    sns.boxplot(x=df[col], ax=axes[i], orient=\"h\")\n",
        "    axes[i].set_title(f\"{col} boxplot\")\n",
        "\n",
        "for j in range(i+1, len(axes)):\n",
        "    fig.delaxes(axes[j])\n",
        "\n",
        "plt.tight_layout()\n",
        "plt.show()"
      ]
    },
    {
      "cell_type": "markdown",
      "metadata": {},
      "source": [
        "there isnot any outlier in any column "
      ]
    },
    {
      "cell_type": "code",
      "execution_count": 27,
      "metadata": {
        "id": "mq28VG27ZzBi"
      },
      "outputs": [],
      "source": [
        "#split the data\n",
        "x=df.drop(\"Survived\",axis=1)\n",
        "y=df[\"Survived\"]"
      ]
    },
    {
      "cell_type": "markdown",
      "metadata": {},
      "source": [
        "x contains all columns of dataset except the target column(Survived)\n",
        "y contains only the target column(Survived)from this dataset"
      ]
    },
    {
      "cell_type": "code",
      "execution_count": 28,
      "metadata": {
        "colab": {
          "base_uri": "https://localhost:8080/",
          "height": 666
        },
        "id": "-wYU1ISiZSor",
        "outputId": "eed234a8-b767-4074-8787-dc4e3fecc5ae"
      },
      "outputs": [
        {
          "data": {
            "text/html": [
              "<div>\n",
              "<style scoped>\n",
              "    .dataframe tbody tr th:only-of-type {\n",
              "        vertical-align: middle;\n",
              "    }\n",
              "\n",
              "    .dataframe tbody tr th {\n",
              "        vertical-align: top;\n",
              "    }\n",
              "\n",
              "    .dataframe thead th {\n",
              "        text-align: right;\n",
              "    }\n",
              "</style>\n",
              "<table border=\"1\" class=\"dataframe\">\n",
              "  <thead>\n",
              "    <tr style=\"text-align: right;\">\n",
              "      <th></th>\n",
              "      <th>Pclass</th>\n",
              "      <th>Sex</th>\n",
              "      <th>Age</th>\n",
              "      <th>SibSp</th>\n",
              "      <th>Parch</th>\n",
              "      <th>Fare</th>\n",
              "      <th>Embarked</th>\n",
              "    </tr>\n",
              "  </thead>\n",
              "  <tbody>\n",
              "    <tr>\n",
              "      <th>0</th>\n",
              "      <td>3</td>\n",
              "      <td>male</td>\n",
              "      <td>0.375000</td>\n",
              "      <td>1</td>\n",
              "      <td>0</td>\n",
              "      <td>0.110424</td>\n",
              "      <td>S</td>\n",
              "    </tr>\n",
              "    <tr>\n",
              "      <th>1</th>\n",
              "      <td>1</td>\n",
              "      <td>female</td>\n",
              "      <td>0.682692</td>\n",
              "      <td>1</td>\n",
              "      <td>0</td>\n",
              "      <td>1.000000</td>\n",
              "      <td>C</td>\n",
              "    </tr>\n",
              "    <tr>\n",
              "      <th>2</th>\n",
              "      <td>3</td>\n",
              "      <td>female</td>\n",
              "      <td>0.451923</td>\n",
              "      <td>0</td>\n",
              "      <td>0</td>\n",
              "      <td>0.120704</td>\n",
              "      <td>S</td>\n",
              "    </tr>\n",
              "    <tr>\n",
              "      <th>3</th>\n",
              "      <td>1</td>\n",
              "      <td>female</td>\n",
              "      <td>0.625000</td>\n",
              "      <td>1</td>\n",
              "      <td>0</td>\n",
              "      <td>0.808757</td>\n",
              "      <td>S</td>\n",
              "    </tr>\n",
              "    <tr>\n",
              "      <th>4</th>\n",
              "      <td>3</td>\n",
              "      <td>male</td>\n",
              "      <td>0.625000</td>\n",
              "      <td>0</td>\n",
              "      <td>0</td>\n",
              "      <td>0.122608</td>\n",
              "      <td>S</td>\n",
              "    </tr>\n",
              "    <tr>\n",
              "      <th>...</th>\n",
              "      <td>...</td>\n",
              "      <td>...</td>\n",
              "      <td>...</td>\n",
              "      <td>...</td>\n",
              "      <td>...</td>\n",
              "      <td>...</td>\n",
              "      <td>...</td>\n",
              "    </tr>\n",
              "    <tr>\n",
              "      <th>886</th>\n",
              "      <td>2</td>\n",
              "      <td>male</td>\n",
              "      <td>0.471154</td>\n",
              "      <td>0</td>\n",
              "      <td>0</td>\n",
              "      <td>0.198001</td>\n",
              "      <td>S</td>\n",
              "    </tr>\n",
              "    <tr>\n",
              "      <th>887</th>\n",
              "      <td>1</td>\n",
              "      <td>female</td>\n",
              "      <td>0.317308</td>\n",
              "      <td>0</td>\n",
              "      <td>0</td>\n",
              "      <td>0.456925</td>\n",
              "      <td>S</td>\n",
              "    </tr>\n",
              "    <tr>\n",
              "      <th>888</th>\n",
              "      <td>3</td>\n",
              "      <td>female</td>\n",
              "      <td>0.490385</td>\n",
              "      <td>1</td>\n",
              "      <td>2</td>\n",
              "      <td>0.357163</td>\n",
              "      <td>S</td>\n",
              "    </tr>\n",
              "    <tr>\n",
              "      <th>889</th>\n",
              "      <td>1</td>\n",
              "      <td>male</td>\n",
              "      <td>0.451923</td>\n",
              "      <td>0</td>\n",
              "      <td>0</td>\n",
              "      <td>0.456925</td>\n",
              "      <td>C</td>\n",
              "    </tr>\n",
              "    <tr>\n",
              "      <th>890</th>\n",
              "      <td>3</td>\n",
              "      <td>male</td>\n",
              "      <td>0.567308</td>\n",
              "      <td>0</td>\n",
              "      <td>0</td>\n",
              "      <td>0.118039</td>\n",
              "      <td>Q</td>\n",
              "    </tr>\n",
              "  </tbody>\n",
              "</table>\n",
              "<p>889 rows × 7 columns</p>\n",
              "</div>"
            ],
            "text/plain": [
              "    Pclass     Sex       Age SibSp Parch      Fare Embarked\n",
              "0        3    male  0.375000     1     0  0.110424        S\n",
              "1        1  female  0.682692     1     0  1.000000        C\n",
              "2        3  female  0.451923     0     0  0.120704        S\n",
              "3        1  female  0.625000     1     0  0.808757        S\n",
              "4        3    male  0.625000     0     0  0.122608        S\n",
              "..     ...     ...       ...   ...   ...       ...      ...\n",
              "886      2    male  0.471154     0     0  0.198001        S\n",
              "887      1  female  0.317308     0     0  0.456925        S\n",
              "888      3  female  0.490385     1     2  0.357163        S\n",
              "889      1    male  0.451923     0     0  0.456925        C\n",
              "890      3    male  0.567308     0     0  0.118039        Q\n",
              "\n",
              "[889 rows x 7 columns]"
            ]
          },
          "execution_count": 28,
          "metadata": {},
          "output_type": "execute_result"
        }
      ],
      "source": [
        "#normalize numerical columns\n",
        "from sklearn.preprocessing import MinMaxScaler\n",
        "num_cols=x.select_dtypes('number').columns\n",
        "scaler=MinMaxScaler()\n",
        "scaler.fit(x[num_cols])\n",
        "x[num_cols]=scaler.transform(x[num_cols])\n",
        "x"
      ]
    },
    {
      "cell_type": "markdown",
      "metadata": {},
      "source": [
        "every numerical column changes its values to be from 0 to 1"
      ]
    },
    {
      "cell_type": "code",
      "execution_count": 29,
      "metadata": {},
      "outputs": [
        {
          "data": {
            "text/html": [
              "<div>\n",
              "<style scoped>\n",
              "    .dataframe tbody tr th:only-of-type {\n",
              "        vertical-align: middle;\n",
              "    }\n",
              "\n",
              "    .dataframe tbody tr th {\n",
              "        vertical-align: top;\n",
              "    }\n",
              "\n",
              "    .dataframe thead th {\n",
              "        text-align: right;\n",
              "    }\n",
              "</style>\n",
              "<table border=\"1\" class=\"dataframe\">\n",
              "  <thead>\n",
              "    <tr style=\"text-align: right;\">\n",
              "      <th></th>\n",
              "      <th>Pclass</th>\n",
              "      <th>Sex</th>\n",
              "      <th>Age</th>\n",
              "      <th>SibSp</th>\n",
              "      <th>Parch</th>\n",
              "      <th>Fare</th>\n",
              "      <th>Embarked</th>\n",
              "    </tr>\n",
              "  </thead>\n",
              "  <tbody>\n",
              "    <tr>\n",
              "      <th>0</th>\n",
              "      <td>3</td>\n",
              "      <td>1</td>\n",
              "      <td>22.0</td>\n",
              "      <td>1</td>\n",
              "      <td>0</td>\n",
              "      <td>7.2500</td>\n",
              "      <td>2</td>\n",
              "    </tr>\n",
              "    <tr>\n",
              "      <th>1</th>\n",
              "      <td>1</td>\n",
              "      <td>0</td>\n",
              "      <td>38.0</td>\n",
              "      <td>1</td>\n",
              "      <td>0</td>\n",
              "      <td>65.6563</td>\n",
              "      <td>0</td>\n",
              "    </tr>\n",
              "    <tr>\n",
              "      <th>2</th>\n",
              "      <td>3</td>\n",
              "      <td>0</td>\n",
              "      <td>26.0</td>\n",
              "      <td>0</td>\n",
              "      <td>0</td>\n",
              "      <td>7.9250</td>\n",
              "      <td>2</td>\n",
              "    </tr>\n",
              "    <tr>\n",
              "      <th>3</th>\n",
              "      <td>1</td>\n",
              "      <td>0</td>\n",
              "      <td>35.0</td>\n",
              "      <td>1</td>\n",
              "      <td>0</td>\n",
              "      <td>53.1000</td>\n",
              "      <td>2</td>\n",
              "    </tr>\n",
              "    <tr>\n",
              "      <th>4</th>\n",
              "      <td>3</td>\n",
              "      <td>1</td>\n",
              "      <td>35.0</td>\n",
              "      <td>0</td>\n",
              "      <td>0</td>\n",
              "      <td>8.0500</td>\n",
              "      <td>2</td>\n",
              "    </tr>\n",
              "    <tr>\n",
              "      <th>...</th>\n",
              "      <td>...</td>\n",
              "      <td>...</td>\n",
              "      <td>...</td>\n",
              "      <td>...</td>\n",
              "      <td>...</td>\n",
              "      <td>...</td>\n",
              "      <td>...</td>\n",
              "    </tr>\n",
              "    <tr>\n",
              "      <th>886</th>\n",
              "      <td>2</td>\n",
              "      <td>1</td>\n",
              "      <td>27.0</td>\n",
              "      <td>0</td>\n",
              "      <td>0</td>\n",
              "      <td>13.0000</td>\n",
              "      <td>2</td>\n",
              "    </tr>\n",
              "    <tr>\n",
              "      <th>887</th>\n",
              "      <td>1</td>\n",
              "      <td>0</td>\n",
              "      <td>19.0</td>\n",
              "      <td>0</td>\n",
              "      <td>0</td>\n",
              "      <td>30.0000</td>\n",
              "      <td>2</td>\n",
              "    </tr>\n",
              "    <tr>\n",
              "      <th>888</th>\n",
              "      <td>3</td>\n",
              "      <td>0</td>\n",
              "      <td>28.0</td>\n",
              "      <td>1</td>\n",
              "      <td>2</td>\n",
              "      <td>23.4500</td>\n",
              "      <td>2</td>\n",
              "    </tr>\n",
              "    <tr>\n",
              "      <th>889</th>\n",
              "      <td>1</td>\n",
              "      <td>1</td>\n",
              "      <td>26.0</td>\n",
              "      <td>0</td>\n",
              "      <td>0</td>\n",
              "      <td>30.0000</td>\n",
              "      <td>0</td>\n",
              "    </tr>\n",
              "    <tr>\n",
              "      <th>890</th>\n",
              "      <td>3</td>\n",
              "      <td>1</td>\n",
              "      <td>32.0</td>\n",
              "      <td>0</td>\n",
              "      <td>0</td>\n",
              "      <td>7.7500</td>\n",
              "      <td>1</td>\n",
              "    </tr>\n",
              "  </tbody>\n",
              "</table>\n",
              "<p>889 rows × 7 columns</p>\n",
              "</div>"
            ],
            "text/plain": [
              "    Pclass  Sex   Age SibSp Parch     Fare  Embarked\n",
              "0        3    1  22.0     1     0   7.2500         2\n",
              "1        1    0  38.0     1     0  65.6563         0\n",
              "2        3    0  26.0     0     0   7.9250         2\n",
              "3        1    0  35.0     1     0  53.1000         2\n",
              "4        3    1  35.0     0     0   8.0500         2\n",
              "..     ...  ...   ...   ...   ...      ...       ...\n",
              "886      2    1  27.0     0     0  13.0000         2\n",
              "887      1    0  19.0     0     0  30.0000         2\n",
              "888      3    0  28.0     1     2  23.4500         2\n",
              "889      1    1  26.0     0     0  30.0000         0\n",
              "890      3    1  32.0     0     0   7.7500         1\n",
              "\n",
              "[889 rows x 7 columns]"
            ]
          },
          "execution_count": 29,
          "metadata": {},
          "output_type": "execute_result"
        }
      ],
      "source": [
        "from sklearn.preprocessing import LabelEncoder\n",
        "df_encoded = df.copy()\n",
        "le_sex = LabelEncoder()\n",
        "le_embarked = LabelEncoder()\n",
        "\n",
        "df_encoded['Sex'] = le_sex.fit_transform(df_encoded['Sex'])\n",
        "df_encoded['Embarked'] = le_embarked.fit_transform(df_encoded['Embarked'])\n",
        "x = df_encoded.drop(\"Survived\", axis=1)\n",
        "y = df_encoded[\"Survived\"]\n",
        "x"
      ]
    },
    {
      "cell_type": "markdown",
      "metadata": {},
      "source": [
        "encoded categorical columns"
      ]
    },
    {
      "cell_type": "code",
      "execution_count": 30,
      "metadata": {},
      "outputs": [],
      "source": [
        "from sklearn.ensemble import RandomForestClassifier\n",
        "from sklearn.model_selection import train_test_split\n",
        "from sklearn.metrics import accuracy_score, precision_score, recall_score, f1_score"
      ]
    },
    {
      "cell_type": "code",
      "execution_count": 31,
      "metadata": {},
      "outputs": [
        {
          "name": "stdout",
          "output_type": "stream",
          "text": [
            "Accuracy: 0.8258\n"
          ]
        }
      ],
      "source": [
        "# Split the dataset into training and testing sets\n",
        "# 80% for training, 20% for testing, with a fixed random state for reproducibility\n",
        "x_train, x_test, y_train, y_test = train_test_split(x, y, test_size=0.2, random_state=42)\n",
        "\n",
        "# Create and train the Random Forest model with max_depth and max_features\n",
        "# n_estimators Number of trees in the forest,max_depth is Maximum depth of each tree to prevent overfitting, random_state=42 is Random seed for reproducibility\n",
        "\n",
        "rf = RandomForestClassifier(n_estimators=100, max_depth=4, max_features='sqrt', random_state=42)\n",
        "rf.fit(x_train, y_train)\n",
        "\n",
        "# Make predictions on the test set\n",
        "y_pred = rf.predict(x_test)\n",
        "\n",
        "# Calculate and print the accuracy\n",
        "accuracy = accuracy_score(y_test, y_pred)\n",
        "print(f\"Accuracy: {accuracy:.4f}\")"
      ]
    },
    {
      "cell_type": "code",
      "execution_count": 32,
      "metadata": {},
      "outputs": [
        {
          "name": "stdout",
          "output_type": "stream",
          "text": [
            "n_estimators = 10, Accuracy = 0.8371\n",
            "n_estimators = 100, Accuracy = 0.8258\n",
            "n_estimators = 500, Accuracy = 0.8371\n"
          ]
        }
      ],
      "source": [
        "# Try different values of n_estimators and check the accuracy\n",
        "for n in [10, 100, 500]:\n",
        "    rf = RandomForestClassifier(n_estimators=n, max_depth=4, max_features='sqrt', random_state=42)\n",
        "    rf.fit(x_train, y_train)\n",
        "    y_pred = rf.predict(x_test)\n",
        "    acc = accuracy_score(y_test, y_pred)\n",
        "    print(f\"n_estimators = {n}, Accuracy = {acc:.4f}\")"
      ]
    },
    {
      "cell_type": "markdown",
      "metadata": {},
      "source": [
        "when n_estimators = 10 then Accuracy = 0.8371\n",
        "when n_estimators = 100 then Accuracy = 0.8258\n",
        "when n_estimators = 500 then Accuracy =0.8371"
      ]
    },
    {
      "cell_type": "markdown",
      "metadata": {},
      "source": [
        "the best accurcy when n_estimators = 100, Accuracy = 0.8202"
      ]
    },
    {
      "cell_type": "code",
      "execution_count": 33,
      "metadata": {},
      "outputs": [
        {
          "name": "stdout",
          "output_type": "stream",
          "text": [
            "Training Accuracy: 0.8439\n",
            "Testing Accuracy : 0.8371\n"
          ]
        }
      ],
      "source": [
        "#code to check if overfitting or underfitting\n",
        "\n",
        "# 80% for training, 20% for testing, with a fixed random state for reproducibility\n",
        "x_train, x_test, y_train, y_test = train_test_split(x, y, test_size=0.2, random_state=42)\n",
        "\n",
        "# Create and train the Random Forest model with max_depth and max_features\n",
        "rf = RandomForestClassifier(n_estimators=500, max_depth=4, max_features='sqrt', random_state=42)\n",
        "rf.fit(x_train, y_train)\n",
        "\n",
        "# Make predictions on both training and test sets\n",
        "y_train_pred = rf.predict(x_train)\n",
        "y_test_pred = rf.predict(x_test)\n",
        "\n",
        "# Calculate and print the accuracies\n",
        "train_accuracy = accuracy_score(y_train, y_train_pred)\n",
        "test_accuracy = accuracy_score(y_test, y_test_pred)\n",
        "\n",
        "print(f\"Training Accuracy: {train_accuracy:.4f}\")\n",
        "print(f\"Testing Accuracy : {test_accuracy:.4f}\")"
      ]
    },
    {
      "cell_type": "markdown",
      "metadata": {},
      "source": [
        "Training Accuracy:0.8439 ,Testing Accuracy : 0.8371 therefore the difference between them not very big so there isnot overfitting and underfitting"
      ]
    },
    {
      "cell_type": "code",
      "execution_count": 34,
      "metadata": {},
      "outputs": [
        {
          "name": "stdout",
          "output_type": "stream",
          "text": [
            "  Actual  Predicted\n",
            "0      0          0\n",
            "1      1          1\n",
            "2      1          1\n",
            "3      0          0\n",
            "4      1          1\n",
            "5      1          0\n",
            "6      0          0\n",
            "7      0          0\n",
            "8      1          1\n",
            "9      1          1\n"
          ]
        }
      ],
      "source": [
        "# Predict the first 10 samples\n",
        "predicted = rf.predict(x_test[:10])\n",
        "actual = y_test[:10].values\n",
        "\n",
        "# Create a DataFrame to show both side by side\n",
        "comparison_df = pd.DataFrame({\n",
        "    \"Actual\": actual,\n",
        "    \"Predicted\": predicted\n",
        "})\n",
        "\n",
        "# Display the comparison table\n",
        "print(comparison_df)"
      ]
    },
    {
      "cell_type": "markdown",
      "metadata": {},
      "source": [
        "There is 1 wrong prediction: row 5 was predicted as 0 instead of 1"
      ]
    },
    {
      "cell_type": "code",
      "execution_count": 35,
      "metadata": {},
      "outputs": [
        {
          "data": {
            "image/png": "[encoded data removed]",
            "text/plain": [
              "<Figure size 640x480 with 2 Axes>"
            ]
          },
          "metadata": {},
          "output_type": "display_data"
        },
        {
          "name": "stdout",
          "output_type": "stream",
          "text": [
            "Confusion Matrix:\n",
            "[[99 10]\n",
            " [19 50]]\n",
            "Accuracy : 0.8371\n",
            "Precision: 0.8333\n",
            "Recall   : 0.7246\n",
            "F1 Score : 0.7752\n"
          ]
        }
      ],
      "source": [
        "from sklearn.metrics import (\n",
        "    confusion_matrix,\n",
        "    ConfusionMatrixDisplay,\n",
        "    accuracy_score,\n",
        "    precision_score,\n",
        "    recall_score,\n",
        "    f1_score\n",
        ")\n",
        "import matplotlib.pyplot as plt\n",
        "\n",
        "# Predict on the test set\n",
        "y_pred = rf.predict(x_test)\n",
        "\n",
        "# Plot the confusion matrix\n",
        "ConfusionMatrixDisplay.from_estimator(rf, x_test, y_test)\n",
        "plt.title(\"Confusion Matrix - Random Forest\")\n",
        "plt.show()\n",
        "\n",
        "# Print confusion matrix as text\n",
        "cm = confusion_matrix(y_test, y_pred)\n",
        "print(\"Confusion Matrix:\")\n",
        "print(cm)\n",
        "\n",
        "# Calculate and print evaluation metrics\n",
        "acc = accuracy_score(y_test, y_pred)\n",
        "precision = precision_score(y_test, y_pred)\n",
        "recall = recall_score(y_test, y_pred)\n",
        "f1 = f1_score(y_test, y_pred)\n",
        "\n",
        "print(f\"Accuracy : {acc:.4f}\")\n",
        "print(f\"Precision: {precision:.4f}\")\n",
        "print(f\"Recall   : {recall:.4f}\")\n",
        "print(f\"F1 Score : {f1:.4f}\")"
      ]
    },
    {
      "cell_type": "markdown",
      "metadata": {},
      "source": [
        "99 people were correctly predicted as not survived (True Negatives).\n",
        "\n",
        "50 people were correctly predicted as survived (True Positives).\n",
        "\n",
        "10 people were incorrectly predicted as survived, but they did not survive (False Positives).\n",
        "\n",
        "19 people were incorrectly predicted as not survived, but they actually survived (False Negatives).\n",
        "\n",
        "Accuracy: 0.8371\n",
        "→ The model correctly predicted about 84% of all cases.\n",
        "\n",
        "Precision: 0.8333\n",
        "→ Of all the passengers the model predicted as survived, around 83% actually survived.\n",
        "\n",
        "Recall: 0.7246\n",
        "→ Of all the passengers who actually survived, the model correctly identified about 72% of them.\n",
        "\n",
        "F1 Score: 0.7752\n",
        "→ This is the harmonic mean of precision and recall. It gives a balanced measure between the two."
      ]
    },
    {
      "cell_type": "code",
      "execution_count": 36,
      "metadata": {},
      "outputs": [
        {
          "name": "stdout",
          "output_type": "stream",
          "text": [
            "Top 3 Important Features:\n",
            "Sex       0.459902\n",
            "Pclass    0.164242\n",
            "Fare      0.161963\n",
            "dtype: float64\n"
          ]
        }
      ],
      "source": [
        " #Get feature importances from the model\n",
        "importances = pd.Series(rf.feature_importances_, index=x.columns)\n",
        "\n",
        "# Sort and get the top 3 most important features\n",
        "top_3 = importances.sort_values(ascending=False).head(3)\n",
        "print(\"Top 3 Important Features:\")\n",
        "print(top_3)"
      ]
    },
    {
      "cell_type": "markdown",
      "metadata": {},
      "source": [
        "Sex = 0.459902 is the highest importance column then Pclass =0.164242  then Fare=0.161963"
      ]
    },
    {
      "cell_type": "code",
      "execution_count": 37,
      "metadata": {},
      "outputs": [
        {
          "name": "stdout",
          "output_type": "stream",
          "text": [
            "Cross-validation scores: [0.76404494 0.82022472 0.83146067 0.79213483 0.85310734]\n",
            "Average cross-validation accuracy: 0.812194502634419\n"
          ]
        }
      ],
      "source": [
        "#evaluate model performance by cross_val_score\n",
        "from sklearn.model_selection import cross_val_score\n",
        "\n",
        "# Evaluate the model using 5-fold cross-validation\n",
        "cv_scores = cross_val_score(rf, x, y, cv=5)\n",
        "\n",
        "# Print each fold's accuracy and the average\n",
        "print(\"Cross-validation scores:\", cv_scores)\n",
        "print(\"Average cross-validation accuracy:\", cv_scores.mean())"
      ]
    },
    {
      "cell_type": "markdown",
      "metadata": {},
      "source": [
        "The model's performance is stable, with all accuracy scores ranging between 0.775 and 0.825, indicating no major fluctuations.\n",
        "The average accuracy is above 80%, which shows strong overall performance.\n",
        "There is no sign of overfitting, as the scores are consistent across folds.\n",
        "This means the model generalizes well to unseen data"
      ]
    },
    {
      "cell_type": "code",
      "execution_count": 38,
      "metadata": {},
      "outputs": [
        {
          "name": "stdout",
          "output_type": "stream",
          "text": [
            "max_depth = 2\n",
            "  Train Accuracy = 0.7989\n",
            "  Test Accuracy  = 0.7978\n",
            "  Overfitting Gap = 0.0011\n",
            "----------------------------------------\n",
            "max_depth = 4\n",
            "  Train Accuracy = 0.8439\n",
            "  Test Accuracy  = 0.8371\n",
            "  Overfitting Gap = 0.0068\n",
            "----------------------------------------\n",
            "max_depth = 10\n",
            "  Train Accuracy = 0.9480\n",
            "  Test Accuracy  = 0.7753\n",
            "  Overfitting Gap = 0.1727\n",
            "----------------------------------------\n",
            "max_depth = None\n",
            "  Train Accuracy = 0.9845\n",
            "  Test Accuracy  = 0.7697\n",
            "  Overfitting Gap = 0.2149\n",
            "----------------------------------------\n"
          ]
        }
      ],
      "source": [
        "depth_values = [2, 4, 10, None]\n",
        "\n",
        "for depth in depth_values:\n",
        "    rf = RandomForestClassifier(n_estimators=500, max_depth=depth, max_features='sqrt', random_state=42)\n",
        "    rf.fit(x_train, y_train)\n",
        "\n",
        "    y_train_pred = rf.predict(x_train)\n",
        "    y_test_pred = rf.predict(x_test)\n",
        "\n",
        "    train_acc = accuracy_score(y_train, y_train_pred)\n",
        "    test_acc = accuracy_score(y_test, y_test_pred)\n",
        "\n",
        "    print(f\"max_depth = {depth}\")\n",
        "    print(f\"  Train Accuracy = {train_acc:.4f}\")\n",
        "    print(f\"  Test Accuracy  = {test_acc:.4f}\")\n",
        "    print(f\"  Overfitting Gap = {train_acc - test_acc:.4f}\")\n",
        "    print(\"-\" * 40)"
      ]
    },
    {
      "cell_type": "markdown",
      "metadata": {},
      "source": [
        "When max_depth = 2 then Train Accuracy = 0.7989, Test Accuracy = 0.7978 → it makes underfitting.\n",
        "When max_depth = 4 then Train Accuracy = 0.8439, Test Accuracy = 0.8371 → it doesn't have underfitting or overfitting.\n",
        "When max_depth = 10 then Train Accuracy = 0.9480, Test Accuracy = 0.7753 → it makes overfitting.\n",
        "When max_depth = None then Train Accuracy = 0.9845, Test Accuracy = 0.7697 → it makes overfitting and it's the worst.\n",
        "\n",
        " So, the best max_depth is 4 "
      ]
    },
    {
      "cell_type": "code",
      "execution_count": 39,
      "metadata": {},
      "outputs": [
        {
          "name": "stdout",
          "output_type": "stream",
          "text": [
            "Training Accuracy: 0.8439\n",
            "Testing Accuracy : 0.8371\n"
          ]
        }
      ],
      "source": [
        "# 80% for training, 20% for testing, with a fixed random state for reproducibility\n",
        "x_train, x_test, y_train, y_test = train_test_split(x, y, test_size=0.2, random_state=42)\n",
        "\n",
        "# Create and train the Random Forest model with max_depth and max_features\n",
        "rf = RandomForestClassifier(n_estimators=500, max_depth=4, max_features='sqrt', random_state=42)\n",
        "rf.fit(x_train, y_train)\n",
        "\n",
        "# Make predictions on both training and test sets\n",
        "y_train_pred = rf.predict(x_train)\n",
        "y_test_pred = rf.predict(x_test)\n",
        "\n",
        "# Calculate and print the accuracies\n",
        "train_accuracy = accuracy_score(y_train, y_train_pred)\n",
        "test_accuracy = accuracy_score(y_test, y_test_pred)\n",
        "\n",
        "print(f\"Training Accuracy: {train_accuracy:.4f}\")\n",
        "print(f\"Testing Accuracy : {test_accuracy:.4f}\")"
      ]
    },
    {
      "cell_type": "code",
      "execution_count": 40,
      "metadata": {},
      "outputs": [
        {
          "name": "stdout",
          "output_type": "stream",
          "text": [
            "Decision Tree Accuracy: 0.8202\n",
            "Random Forest Accuracy: 0.8371\n"
          ]
        }
      ],
      "source": [
        "#Compare Random Forest accuracy with a simple Decision Tree\n",
        "from sklearn.tree import DecisionTreeClassifier\n",
        "\n",
        "# Train a Decision Tree model\n",
        "dt = DecisionTreeClassifier(max_depth=5, random_state=42)\n",
        "dt.fit(x_train, y_train)\n",
        "\n",
        "# Predict using Decision Tree\n",
        "y_pred_dt = dt.predict(x_test)\n",
        "dt_acc = accuracy_score(y_test, y_pred_dt)\n",
        "\n",
        "# Print accuracy for both models\n",
        "print(f\"Decision Tree Accuracy: {dt_acc:.4f}\")\n",
        "print(f\"Random Forest Accuracy: {test_accuracy:.4f}\")"
      ]
    },
    {
      "cell_type": "markdown",
      "metadata": {},
      "source": [
        "Random Forest is better because its accuracy is 0.8371 , higher than the Decision Tree accurcy (0.8202). It works better as it combines many trees together while Decision Tree contains only one tree"
      ]
    },
    {
      "cell_type": "code",
      "execution_count": 41,
      "metadata": {},
      "outputs": [
        {
          "data": {
            "text/plain": [
              "['titanic_model.pkl']"
            ]
          },
          "execution_count": 41,
          "metadata": {},
          "output_type": "execute_result"
        }
      ],
      "source": [
        "import joblib\n",
        "joblib.dump(rf, 'titanic_model.pkl')"
      ]
    }
  ],
  "metadata": {
    "colab": {
      "provenance": []
    },
    "kernelspec": {
      "display_name": "Python 3",
      "language": "python",
      "name": "python3"
    },
    "language_info": {
      "codemirror_mode": {
        "name": "ipython",
        "version": 3
      },
      "file_extension": ".py",
      "mimetype": "text/x-python",
      "name": "python",
      "nbconvert_exporter": "python",
      "pygments_lexer": "ipython3",
      "version": "3.13.3"
    }
  },
  "nbformat": 4,
  "nbformat_minor": 0
}
